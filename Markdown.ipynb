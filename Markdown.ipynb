{
 "cells": [
  {
   "cell_type": "markdown",
   "metadata": {},
   "source": [
    "# <span style=\"color:#D291BC\">Uso de Markdown</span>"
   ]
  },
  {
   "cell_type": "markdown",
   "metadata": {},
   "source": [
    "## <span style=\"color:#957DAD\">Índice</span>"
   ]
  },
  {
   "cell_type": "markdown",
   "metadata": {},
   "source": [
    "\n",
    "+ [Títulos ](#Titulos)\n",
    "+ [Estilos](#Estilos)\n",
    "+ [Listas](#Listas)\n",
    "+ [Línea y salto de línea](#Línea_y_salto_de_línea)\n",
    "+ [Hipervínculos](#Hipervínculos)\n",
    "+ [Blockquote](#Blockquote)\n",
    "+ [Formato de código](#Formato_de_código)\n",
    "+ [Tablas](#Tablas)\n",
    "+ [Imágenes](#Imágenes)\n",
    "+ [Ecuaciones](#Ecuaciones)\n",
    "+ [Link con imagen](#Link_con_imagen)\n",
    "+ [Comandos mágicos](#Comandos_mágicos)"
   ]
  },
  {
   "cell_type": "markdown",
   "metadata": {},
   "source": [
    "<a id=\"Titulos\"></a>\n",
    "## <span style=\"color:#957DAD\">Títulos</span>"
   ]
  },
  {
   "cell_type": "raw",
   "metadata": {},
   "source": [
    "# Título 1\n",
    "## Título 2\n",
    "### Título 3 \n",
    "#### Titulo 4\n",
    "##### Título 5"
   ]
  },
  {
   "cell_type": "markdown",
   "metadata": {},
   "source": [
    "# Título 1\n",
    "## Título 2\n",
    "### Título 3 \n",
    "#### Titulo 4\n",
    "##### Título 5"
   ]
  },
  {
   "cell_type": "markdown",
   "metadata": {},
   "source": [
    "----------------"
   ]
  },
  {
   "cell_type": "raw",
   "metadata": {},
   "source": [
    "Título 1\n",
    "==\n",
    "Título 2\n",
    "--"
   ]
  },
  {
   "cell_type": "markdown",
   "metadata": {},
   "source": [
    "Título 1\n",
    "==\n",
    "Título 2\n",
    "--"
   ]
  },
  {
   "cell_type": "markdown",
   "metadata": {},
   "source": [
    "------------------"
   ]
  },
  {
   "cell_type": "raw",
   "metadata": {},
   "source": [
    "<h1> Titulo 1 </h1>\n",
    "<h2> Titulo 2 </h2>\n",
    "<h3> Titulo 3 </h3>\n",
    "<h4> Titulo 4 </h4>\n",
    "<h5> Titulo 5 </h5>\n",
    "<h6> Titulo 6 </h6>"
   ]
  },
  {
   "cell_type": "markdown",
   "metadata": {},
   "source": [
    "<h1> Titulo 1 </h1>\n",
    "<h2> Titulo 2 </h2>\n",
    "<h3> Titulo 3 </h3>\n",
    "<h4> Titulo 4 </h4>\n",
    "<h5> Titulo 5 </h5>\n"
   ]
  },
  {
   "cell_type": "markdown",
   "metadata": {},
   "source": [
    "<a id=\"Estilos\"></a>\n",
    "## <span style=\"color:#957DAD\">Estilos</span>\n"
   ]
  },
  {
   "cell_type": "raw",
   "metadata": {},
   "source": [
    "*itálicas*\n",
    "_itálicas_\n",
    "<em>itálicas</em>"
   ]
  },
  {
   "cell_type": "markdown",
   "metadata": {},
   "source": [
    "*itálicas*\n",
    "_itálicas_\n",
    "<em>itálicas</em>"
   ]
  },
  {
   "cell_type": "markdown",
   "metadata": {},
   "source": [
    "--------------"
   ]
  },
  {
   "cell_type": "raw",
   "metadata": {},
   "source": [
    "**negritas**\n",
    "__negritas__\n",
    "<strong>negritas<negritas>"
   ]
  },
  {
   "cell_type": "markdown",
   "metadata": {},
   "source": [
    "**negritas**\n",
    "__negritas__\n",
    "<strong>negritas<negritas>"
   ]
  },
  {
   "cell_type": "markdown",
   "metadata": {},
   "source": [
    "-----------------------"
   ]
  },
  {
   "cell_type": "raw",
   "metadata": {},
   "source": [
    "***Negritas e itálicas***\n",
    "___Negritas e itálicas___\n",
    "<strong><em>Negritas e itálicas</em></strong>"
   ]
  },
  {
   "cell_type": "markdown",
   "metadata": {},
   "source": [
    "***Negritas e itálicas***\n",
    "___Negritas e itálicas___\n",
    "<strong><em>Negritas e itálicas</em></strong>"
   ]
  },
  {
   "cell_type": "markdown",
   "metadata": {},
   "source": [
    "----------------"
   ]
  },
  {
   "cell_type": "raw",
   "metadata": {},
   "source": [
    "~~tachado~~\n",
    "<del>tachado</del>"
   ]
  },
  {
   "cell_type": "markdown",
   "metadata": {},
   "source": [
    "~~tachado~~\n",
    "<del>tachado</del>"
   ]
  },
  {
   "cell_type": "markdown",
   "metadata": {},
   "source": [
    "<a id=\"Listas\"></a>\n",
    "## <span style=\"color:#957DAD\">Listas</span>\n"
   ]
  },
  {
   "cell_type": "raw",
   "metadata": {},
   "source": [
    "1. Uno\n",
    "2. Dos\n",
    " 1. Sublista\n",
    " 7. Realmente no me importa el número\n",
    "5. Lo acomodo solo"
   ]
  },
  {
   "cell_type": "markdown",
   "metadata": {},
   "source": [
    "1. Uno\n",
    "2. Dos\n",
    " 1. Sublista\n",
    " 7. Realmente no me importa el número\n",
    "5. Lo acomodo solo"
   ]
  },
  {
   "cell_type": "markdown",
   "metadata": {},
   "source": [
    "----------------"
   ]
  },
  {
   "cell_type": "raw",
   "metadata": {},
   "source": [
    "O en HTML\n",
    "<ol>\n",
    "  <li>one</li>\n",
    "  <li>two\n",
    "      <ol>\n",
    "      <li>two.one</li>\n",
    "      </ol>\n",
    "  </li>\n",
    "  <li>three\n",
    "      <ol>\n",
    "      <li>three.one</li>\n",
    "      <li>three.two\n",
    "          <ol>\n",
    "          <li>three.two.one</li>\n",
    "          </ol>\n",
    "      </li>\n",
    "      </ol>\n",
    "  </li>\n",
    "</ol>"
   ]
  },
  {
   "cell_type": "markdown",
   "metadata": {},
   "source": [
    "O en HTML\n",
    "<ol>\n",
    "  <li>one</li>\n",
    "  <li>two\n",
    "      <ol>\n",
    "      <li>two.one</li>\n",
    "      </ol>\n",
    "  </li>\n",
    "  <li>three\n",
    "      <ol>\n",
    "      <li>three.one</li>\n",
    "      <li>three.two\n",
    "          <ol>\n",
    "          <li>three.two.one</li>\n",
    "          </ol>\n",
    "      </li>\n",
    "      </ol>\n",
    "  </li>\n",
    "</ol>"
   ]
  },
  {
   "cell_type": "markdown",
   "metadata": {},
   "source": [
    "-------------"
   ]
  },
  {
   "cell_type": "raw",
   "metadata": {},
   "source": [
    "* Uno\n",
    "    Identación \n",
    "- Dos\n",
    "    + Tampoco me interesa mucho el símbolo\n",
    "+ Solo me importa el identado"
   ]
  },
  {
   "cell_type": "markdown",
   "metadata": {},
   "source": [
    "* Uno (doble espacio al finalo doble enter para saber que acaba la línea)  \n",
    "    Identación \n",
    "- Dos\n",
    "    + Tampoco me interesa mucho el símbolo\n",
    "+ Solo me importa el identado"
   ]
  },
  {
   "cell_type": "markdown",
   "metadata": {},
   "source": [
    "-----------------------"
   ]
  },
  {
   "cell_type": "raw",
   "metadata": {},
   "source": [
    "O en HTML\n",
    "<ul>\n",
    "  <li>one</li>\n",
    "  <li>two\n",
    "      <ul>\n",
    "      <li>two.one</li>\n",
    "      </ul>\n",
    "  </li>\n",
    "  <li>three\n",
    "      <ul>\n",
    "      <li>three.one</li>\n",
    "      <li>three.two\n",
    "          <ul>\n",
    "          <li>three.two.one</li>\n",
    "          </ul>\n",
    "      </li>\n",
    "      </ul>\n",
    "  </li>\n",
    "</ul>"
   ]
  },
  {
   "cell_type": "markdown",
   "metadata": {},
   "source": [
    "O en HTML\n",
    "<ul>\n",
    "  <li>one</li>\n",
    "  <li>two\n",
    "      <ul>\n",
    "      <li>two.one</li>\n",
    "      </ul>\n",
    "  </li>\n",
    "  <li>three\n",
    "      <ul>\n",
    "      <li>three.one</li>\n",
    "      <li>three.two\n",
    "          <ul>\n",
    "          <li>three.two.one</li>\n",
    "          </ul>\n",
    "      </li>\n",
    "      </ul>\n",
    "  </li>\n",
    "</ul>"
   ]
  },
  {
   "cell_type": "markdown",
   "metadata": {},
   "source": [
    "-------------------"
   ]
  },
  {
   "cell_type": "raw",
   "metadata": {},
   "source": [
    "- [x] Ya hice este elemento\n",
    "- [ ] Este falta por terminar"
   ]
  },
  {
   "cell_type": "markdown",
   "metadata": {},
   "source": [
    "- [x] Ya hice este elemento\n",
    "- [ ] Este falta por terminar"
   ]
  },
  {
   "cell_type": "markdown",
   "metadata": {},
   "source": [
    "----------------------"
   ]
  },
  {
   "cell_type": "markdown",
   "metadata": {},
   "source": [
    "<a id=\"Línea_y_salto_de_línea\"></a>\n",
    "## <span style=\"color:#957DAD\">Línea y salto de línea</span>\n"
   ]
  },
  {
   "cell_type": "raw",
   "metadata": {},
   "source": [
    "Se puede hacer con asteriscos, guíon y guión bajo (repetidos 3 veces)\n",
    "\n",
    "\n",
    "---\n",
    "Estoy entre dos líneas\n",
    "***\n",
    "\n",
    "\n",
    "***\n",
    "Yo también  \n",
    "___"
   ]
  },
  {
   "cell_type": "markdown",
   "metadata": {},
   "source": [
    "Se puede hacer con asteriscos, guíon y guión bajo (repetidos 3 veces)\n",
    "\n",
    "\n",
    "---\n",
    "Estoy entre dos líneas\n",
    "***\n",
    "\n",
    "\n",
    "***\n",
    "Yo también  \n",
    "___"
   ]
  },
  {
   "cell_type": "raw",
   "metadata": {},
   "source": [
    "o con HTML\n",
    "<hr>"
   ]
  },
  {
   "cell_type": "markdown",
   "metadata": {},
   "source": [
    "o con HTML\n",
    "<hr>"
   ]
  },
  {
   "cell_type": "raw",
   "metadata": {},
   "source": [
    "Si no pongo \n",
    "dos espacios  \n",
    "no es una nueva línea.\n",
    "Tampoco si no pongo doble enter\n",
    "\n",
    ":("
   ]
  },
  {
   "cell_type": "markdown",
   "metadata": {},
   "source": [
    "Si no pongo \n",
    "dos espacios  \n",
    "no es una nueva línea.\n",
    "Tampoco si no pongo doble enter\n",
    "\n",
    ":("
   ]
  },
  {
   "cell_type": "markdown",
   "metadata": {},
   "source": [
    "-------------"
   ]
  },
  {
   "cell_type": "raw",
   "metadata": {},
   "source": [
    "Tambien puedo hacerlo poniendo <br> para hacerlo mas visible"
   ]
  },
  {
   "cell_type": "markdown",
   "metadata": {},
   "source": [
    "Tambien puedo hacerlo poniendo <br> para hacaerlo mas visible"
   ]
  },
  {
   "cell_type": "markdown",
   "metadata": {},
   "source": [
    "<a id=\"hiper\"></a>"
   ]
  },
  {
   "cell_type": "markdown",
   "metadata": {},
   "source": [
    "<a id=\"Hipervínculos\"></a>\n",
    "## <span style=\"color:#957DAD\">Hipervínculos</span>\n"
   ]
  },
  {
   "cell_type": "raw",
   "metadata": {},
   "source": [
    "Soy un link --> https://sqlbak.com\n",
    "\n",
    "\n",
    "Quiero que solo aparezca la palabra link --> [Link](https://sqlbak.com \"Si haces click aquí te llevo a otro lado\")\n",
    "\n",
    "\n",
    "Otra manera de hacerlo --> Click [aqui][id]\n",
    "\n",
    "\n",
    "[id]:https://sqlbak.com\n"
   ]
  },
  {
   "cell_type": "markdown",
   "metadata": {},
   "source": [
    "Soy un link --> https://sqlbak.com\n",
    "\n",
    "\n",
    "Quiero que solo aparezca la palabra link --> [Link](https://sqlbak.com \"Si haces click aquí te llevo a otro lado\")\n",
    "\n",
    "\n",
    "Otra manera de hacerlo --> Click [aqui][id]\n",
    "\n",
    "\n",
    "[id]:https://sqlbak.com\n"
   ]
  },
  {
   "cell_type": "markdown",
   "metadata": {},
   "source": [
    "------------"
   ]
  },
  {
   "cell_type": "raw",
   "metadata": {},
   "source": [
    "Dentro de la misma página \n",
    "\n",
    "[Volvamos a la quokka](#quokka)"
   ]
  },
  {
   "cell_type": "markdown",
   "metadata": {},
   "source": [
    "Dentro de la misma página \n",
    "\n",
    "[Volvamos a la quokka](#quokka)"
   ]
  },
  {
   "cell_type": "markdown",
   "metadata": {},
   "source": [
    "## <span style=\"color:#957DAD\">Blockquote</span>\n"
   ]
  },
  {
   "cell_type": "raw",
   "metadata": {},
   "source": [
    "> Soy un blockquote text\n"
   ]
  },
  {
   "cell_type": "markdown",
   "metadata": {},
   "source": [
    "> Soy un blockquote text\n"
   ]
  },
  {
   "cell_type": "markdown",
   "metadata": {},
   "source": [
    "___"
   ]
  },
  {
   "cell_type": "raw",
   "metadata": {},
   "source": [
    "> Nos unimos  \n",
    "> en una  \n",
    "> sola línea  "
   ]
  },
  {
   "cell_type": "markdown",
   "metadata": {},
   "source": [
    "> Nos unimos  \n",
    "> en una  \n",
    "> sola línea  "
   ]
  },
  {
   "cell_type": "markdown",
   "metadata": {},
   "source": [
    "___"
   ]
  },
  {
   "cell_type": "raw",
   "metadata": {},
   "source": [
    "Y esto pasa si no pongo doble espacio al final de cada linea:\n",
    "    \n",
    "    \n",
    "> Nos unimos\n",
    "> en una\n",
    "> sola línea"
   ]
  },
  {
   "cell_type": "markdown",
   "metadata": {},
   "source": [
    "Y esto pasa si no pongo doble espacio al final de la linea:\n",
    "    \n",
    "    \n",
    "> Nos unimos\n",
    "> en una\n",
    "> sola línea"
   ]
  },
  {
   "cell_type": "markdown",
   "metadata": {},
   "source": [
    "___"
   ]
  },
  {
   "cell_type": "raw",
   "metadata": {},
   "source": [
    "Si ponemos un enter al final\n",
    "> Somos\n",
    "\n",
    "> lineas\n",
    "\n",
    "> distintas  "
   ]
  },
  {
   "cell_type": "markdown",
   "metadata": {},
   "source": [
    "Si ponemos un enter al final\n",
    "> Somos\n",
    "\n",
    "> lineas\n",
    "\n",
    "> distintas  "
   ]
  },
  {
   "cell_type": "markdown",
   "metadata": {},
   "source": [
    "___"
   ]
  },
  {
   "cell_type": "raw",
   "metadata": {},
   "source": [
    "<blockquote>Uno</blockquote>\n",
    "<blockquote>Dos</blockquote>\n",
    "<blockquote>Tres</blockquote>"
   ]
  },
  {
   "cell_type": "markdown",
   "metadata": {},
   "source": [
    "<blockquote>Uno</blockquote>\n",
    "<blockquote>Dos</blockquote>\n",
    "<blockquote>Tres</blockquote>"
   ]
  },
  {
   "cell_type": "markdown",
   "metadata": {},
   "source": [
    "___"
   ]
  },
  {
   "cell_type": "raw",
   "metadata": {},
   "source": [
    "Para anidarlos: \n",
    "    \n",
    "> Uno\n",
    ">> Uno A\n",
    ">>> Uno A A\n",
    "\n",
    "o \n",
    "\n",
    "> Uno\n",
    "\n",
    ">> Uno A\n",
    "\n",
    ">>> Uno A A"
   ]
  },
  {
   "cell_type": "markdown",
   "metadata": {},
   "source": [
    "Para anidarlos: \n",
    "    \n",
    "> Uno\n",
    ">> Uno A\n",
    ">>> Uno A A\n",
    "\n",
    "o \n",
    "\n",
    "> Uno\n",
    "\n",
    ">> Uno A\n",
    "\n",
    ">>> Uno A A"
   ]
  },
  {
   "cell_type": "markdown",
   "metadata": {},
   "source": [
    "-----------------"
   ]
  },
  {
   "cell_type": "raw",
   "metadata": {},
   "source": [
    "También con \n",
    "\n",
    "<blockquote>\n",
    "<p>some text</p>\n",
    "<blockquote>\n",
    "<p>and then some more text</p>\n",
    "<blockquote>\n",
    "<p>and then some more</p>\n",
    "</blockquote>\n",
    "</blockquote>\n",
    "</blockquote>"
   ]
  },
  {
   "cell_type": "markdown",
   "metadata": {},
   "source": [
    "También con \n",
    "\n",
    "<blockquote>\n",
    "<p>some text</p>\n",
    "<blockquote>\n",
    "<p>and then some more text</p>\n",
    "<blockquote>\n",
    "<p>and then some more</p>\n",
    "</blockquote>\n",
    "</blockquote>\n",
    "</blockquote>"
   ]
  },
  {
   "cell_type": "markdown",
   "metadata": {},
   "source": [
    "<a id=\"Formato_de_código\"></a>\n",
    "## <span style=\"color:#957DAD\">Formato de código </span>\n",
    "\n"
   ]
  },
  {
   "cell_type": "raw",
   "metadata": {},
   "source": [
    "Formato de código genérico  \n",
    "\n",
    "`inline_code();`\n",
    "\n",
    "Formato de código de acuerdo al lenguaje:\n",
    "\n",
    "+ Python\n",
    "```python\n",
    "print('hello');\n",
    "```\n",
    "\n",
    "+ Java\n",
    "```js\n",
    "var add2 = function(number) {\n",
    "    return number + 2;\n",
    "}\n",
    "```\n",
    "\n",
    "+ HTML\n",
    "```html\n",
    "<div class=\"row\">\n",
    "  <div class=\"col-md-6 col-md-offset-3\">\n",
    "    <h1>Hello World</h1>\n",
    "  </div>\n",
    "</div>\n",
    "```\n",
    "\n",
    "+ R\n",
    "\n",
    "\n",
    "```R\n",
    "fahrenheit_to_celsius <- function(temp_F) {\n",
    "  temp_C <- (temp_F - 32) * 5 / 9\n",
    "  return(temp_C)\n",
    "}\n",
    "\n",
    "```"
   ]
  },
  {
   "cell_type": "markdown",
   "metadata": {},
   "source": [
    "Formato de código genérico  \n",
    "\n",
    "`inline_code();`\n",
    "\n",
    "Formato de código de acuerdo al lenguaje:\n",
    "\n",
    "+ Python\n",
    "```python\n",
    "print('hello');\n",
    "```\n",
    "\n",
    "+ Java\n",
    "```js\n",
    "var add2 = function(number) {\n",
    "    return number + 2;\n",
    "}\n",
    "```\n",
    "\n",
    "+ HTML\n",
    "```html\n",
    "<div class=\"row\">\n",
    "  <div class=\"col-md-6 col-md-offset-3\">\n",
    "    <h1>Hello World</h1>\n",
    "  </div>\n",
    "</div>\n",
    "```\n",
    "\n",
    "+ R\n",
    "\n",
    "\n",
    "```R\n",
    "fahrenheit_to_celsius <- function(temp_F) {\n",
    "  temp_C <- (temp_F - 32) * 5 / 9\n",
    "  return(temp_C)\n",
    "}\n",
    "\n",
    "```"
   ]
  },
  {
   "cell_type": "raw",
   "metadata": {},
   "source": [
    "otra manera:\n",
    "    \n",
    "<code>Python\n",
    "str = \"This is a block level code\"\n",
    "print(str)\n",
    "</code>"
   ]
  },
  {
   "cell_type": "markdown",
   "metadata": {},
   "source": [
    "otra manera:\n",
    "    \n",
    "<code>Python\n",
    "str = \"This is a block level code\"\n",
    "print(str)\n",
    "</code>"
   ]
  },
  {
   "cell_type": "markdown",
   "metadata": {},
   "source": [
    "<a id=\"Tablas\"></a>\n",
    "## <span style=\"color:#957DAD\">Tablas</span>\n"
   ]
  },
  {
   "cell_type": "raw",
   "metadata": {},
   "source": [
    "Puedo solo poner\n",
    "\n",
    "\n",
    "Cosa A|Cosa B\n",
    "---|---\n",
    "1|2\n",
    "3|4"
   ]
  },
  {
   "cell_type": "markdown",
   "metadata": {},
   "source": [
    "Puedo solo poner\n",
    "\n",
    "\n",
    "Cosa A|Cosa B\n",
    "---|---\n",
    "1|2\n",
    "3|4"
   ]
  },
  {
   "cell_type": "markdown",
   "metadata": {},
   "source": [
    "--------------------"
   ]
  },
  {
   "cell_type": "raw",
   "metadata": {},
   "source": [
    "Dependiendo de dónde pongan los \":\" es a donde se va a alinear la columna\n",
    "\n",
    "|Izquierda|Centro|Derecha|\n",
    "|:---------|:----:|------:|\n",
    "|1 |A|C|\n",
    "|2|B|D|"
   ]
  },
  {
   "cell_type": "markdown",
   "metadata": {},
   "source": [
    "Dependiendo de dónde pongan los \":\" es a donde se va a alinear la columna\n",
    "\n",
    "|Izquierda|Centro|Derecha|\n",
    "|:---------|:----:|------:|\n",
    "|1 |A|C|\n",
    "|2|B|D|"
   ]
  },
  {
   "cell_type": "markdown",
   "metadata": {},
   "source": [
    "--------"
   ]
  },
  {
   "cell_type": "raw",
   "metadata": {},
   "source": [
    "\n",
    "Tabla html\n",
    "\n",
    "<table class=\"docutils align-default\">\n",
    "<colgroup>\n",
    "<col style=\"width: 13%\" />\n",
    "<col style=\"width: 53%\" />\n",
    "</colgroup>\n",
    "<thead>\n",
    "<tr class=\"row-odd\"><th class=\"head\"><p>A</p></th>\n",
    "<th class=\"head\"><p>B</p></th>\n",
    "</tr>\n",
    "</thead>\n",
    "<tbody>\n",
    "<tr class=\"row-even\"><td><p>1</p></td>\n",
    "<td><p>2</p></td>\n",
    "</tr>\n",
    "</tbody>\n",
    "</table>"
   ]
  },
  {
   "cell_type": "markdown",
   "metadata": {},
   "source": [
    "\n",
    "Tabla html\n",
    "\n",
    "<table class=\"docutils align-default\">\n",
    "<colgroup>\n",
    "<col style=\"width: 13%\" />\n",
    "<col style=\"width: 53%\" />\n",
    "</colgroup>\n",
    "<thead>\n",
    "<tr class=\"row-odd\"><th class=\"head\"><p>A</p></th>\n",
    "<th class=\"head\"><p>B</p></th>\n",
    "</tr>\n",
    "</thead>\n",
    "<tbody>\n",
    "<tr class=\"row-even\"><td><p>1</p></td>\n",
    "<td><p>2</p></td>\n",
    "</tr>\n",
    "</tbody>\n",
    "</table>"
   ]
  },
  {
   "cell_type": "raw",
   "metadata": {},
   "source": [
    "Más sencilla\n",
    "\n",
    "<table>\n",
    "<thead>\n",
    "<tr><th>Header</th><th>Header</th><th>Header</th></tr>\n",
    "</thead>\n",
    "<tbody>\n",
    "<tr><td>A</td><td>B</td><td>C</td></tr>\n",
    "<tr><td>X</td><td>Y</td><td>Z</td></tr>\n",
    "</tbody>\n",
    "</table>\n"
   ]
  },
  {
   "cell_type": "markdown",
   "metadata": {},
   "source": [
    "Más sencilla\n",
    "\n",
    "<table>\n",
    "<thead>\n",
    "<tr><th>Header</th><th>Header</th><th>Header</th></tr>\n",
    "</thead>\n",
    "<tbody>\n",
    "<tr><td>A</td><td>B</td><td>C</td></tr>\n",
    "<tr><td>X</td><td>Y</td><td>Z</td></tr>\n",
    "</tbody>\n",
    "</table>\n"
   ]
  },
  {
   "cell_type": "markdown",
   "metadata": {},
   "source": [
    "<a id=\"Imágenes\"></a>\n",
    "## <span style=\"color:#957DAD\">Imágenes</span>\n",
    "\n"
   ]
  },
  {
   "cell_type": "raw",
   "metadata": {},
   "source": [
    "<img src = \"../Tarea/peces.gif\" width=\"200\">\n"
   ]
  },
  {
   "cell_type": "markdown",
   "metadata": {},
   "source": [
    "<img src = \"../Tarea/peces.gif\" width=\"200\">\n"
   ]
  },
  {
   "cell_type": "markdown",
   "metadata": {},
   "source": [
    "---------------------"
   ]
  },
  {
   "cell_type": "markdown",
   "metadata": {},
   "source": [
    "<div class=\"alert alert-block alert-danger\">\n",
    "<b>Alto</b> Parte de la explicación de hipervínculo\n",
    "</div>"
   ]
  },
  {
   "cell_type": "raw",
   "metadata": {},
   "source": [
    "#### Parte de la explicación de hipervínculo ####\n",
    "<a id=\"quokka\"></a>\n",
    "\n",
    "# Soy una quokka"
   ]
  },
  {
   "cell_type": "markdown",
   "metadata": {},
   "source": [
    "[Volvamos a la hiper](#hiper)"
   ]
  },
  {
   "cell_type": "markdown",
   "metadata": {},
   "source": [
    "<div class=\"alert alert-block alert-success\">\n",
    "<b>Puedes continuar</b> Esto ya es parte de la explicación de \"Imágenes\"\n",
    "</div>"
   ]
  },
  {
   "cell_type": "markdown",
   "metadata": {},
   "source": [
    "<a id=\"quokka\"></a>\n",
    "\n",
    "# Soy una quokka"
   ]
  },
  {
   "cell_type": "raw",
   "metadata": {},
   "source": [
    "![alt text](https://a.wattpad.com/useravatar/Happywag.256.590774.jpg \"Quokka\")"
   ]
  },
  {
   "cell_type": "markdown",
   "metadata": {},
   "source": [
    "![alt text](https://a.wattpad.com/useravatar/Happywag.256.590774.jpg \"Quokka\")"
   ]
  },
  {
   "cell_type": "markdown",
   "metadata": {},
   "source": [
    "--------------------"
   ]
  },
  {
   "cell_type": "raw",
   "metadata": {},
   "source": [
    "![][id]\n",
    "\n",
    "[id]:https://cf.ltkcdn.net/dogs/images/std/236742-699x450-cutest-puppy-videos.jpg \"Perrito en tacita\""
   ]
  },
  {
   "cell_type": "markdown",
   "metadata": {},
   "source": [
    "![][id]\n",
    "\n",
    "[id]:https://cf.ltkcdn.net/dogs/images/std/236742-699x450-cutest-puppy-videos.jpg \"Perrito en tacita\""
   ]
  },
  {
   "cell_type": "markdown",
   "metadata": {},
   "source": [
    "<a id=\"Ecuaciones\"></a>\n",
    "## <span style=\"color:#957DAD\">Ecuaciones</span>\n"
   ]
  },
  {
   "cell_type": "raw",
   "metadata": {},
   "source": [
    "Ponerla al centro:\n",
    "$$\\sqrt{k}$$\n",
    "\n",
    "Ponerla en la línea\n",
    ": $\\sqrt{k}$\n"
   ]
  },
  {
   "cell_type": "markdown",
   "metadata": {},
   "source": [
    "Ponerla al centro:\n",
    "$$\\sqrt{k}$$\n",
    "\n",
    "Ponerla en la línea\n",
    ": $\\sqrt{k}$\n"
   ]
  },
  {
   "cell_type": "raw",
   "metadata": {},
   "source": [
    "Otro ejemplo\n",
    "\n",
    "\n",
    "$$e^x=\\sum_{i=0}^\\infty \\frac{1}{i!}x^i$$"
   ]
  },
  {
   "cell_type": "markdown",
   "metadata": {},
   "source": [
    "Otro ejemplo\n",
    "\n",
    "\n",
    "$$e^x=\\sum_{i=0}^\\infty \\frac{1}{i!}x^i$$"
   ]
  },
  {
   "cell_type": "raw",
   "metadata": {},
   "source": [
    "\n",
    "<p> Yo muestro: &sum;</p>\n",
    "<p> Yo muestro: &#8721;</p>\n",
    "<p> Yo muestro: &#x2211;</p>\n",
    "\n",
    "https://www.w3schools.com/charsets/ref_utf_math.asp"
   ]
  },
  {
   "cell_type": "markdown",
   "metadata": {},
   "source": [
    "\n",
    "<p> Yo muestro: &sum;</p>\n",
    "<p> Yo muestro: &#8721;</p>\n",
    "<p> Yo muestro: &#x2211;</p>\n",
    "\n",
    "https://www.w3schools.com/charsets/ref_utf_math.asp"
   ]
  },
  {
   "cell_type": "markdown",
   "metadata": {},
   "source": [
    "<a id=\"Link_con_imagen\"></a>\n",
    "## <span style=\"color:#957DAD\">Link con imagen</span>\n"
   ]
  },
  {
   "cell_type": "raw",
   "metadata": {},
   "source": [
    "[![Img Alt Text](http://img.youtube.com/vi/Ru5khWRNphI/0.jpg)](https://youtu.be/Ru5khWRNphI \"Video Title\")"
   ]
  },
  {
   "cell_type": "markdown",
   "metadata": {},
   "source": [
    "[![Img Alt Text](http://img.youtube.com/vi/Ru5khWRNphI/0.jpg)](https://youtu.be/Ru5khWRNphI \"Video Title\")"
   ]
  },
  {
   "cell_type": "markdown",
   "metadata": {},
   "source": [
    "------------------"
   ]
  },
  {
   "cell_type": "raw",
   "metadata": {},
   "source": [
    "[![Img Alt Text](https://encrypted-tbn0.gstatic.com/images?q=tbn%3AANd9GcQkmASaXOItc5rcGC4l7qDwzaSamEktCeonWA&usqp=CAU)](https://youtu.be/Ru5khWRNphI \"Perrito mal dibujado\")"
   ]
  },
  {
   "cell_type": "markdown",
   "metadata": {},
   "source": [
    "[![Img Alt Text](https://encrypted-tbn0.gstatic.com/images?q=tbn%3AANd9GcQkmASaXOItc5rcGC4l7qDwzaSamEktCeonWA&usqp=CAU)](https://youtu.be/Ru5khWRNphI \"Perrito mal dibujado\")"
   ]
  },
  {
   "cell_type": "code",
   "execution_count": null,
   "metadata": {},
   "outputs": [],
   "source": [
    "<video controls src=\"../images/animation.m4v\">animation</video>\n"
   ]
  },
  {
   "cell_type": "markdown",
   "metadata": {},
   "source": [
    "<a id=\"Comandos_mágicos\"></a>\n",
    "## <span style=\"color:#957DAD\">Cómandos mágicos</span>\n"
   ]
  },
  {
   "cell_type": "markdown",
   "metadata": {},
   "source": [
    "<img src = \"https://i.redd.it/9ps07fk8no241.jpg\" width=\"300\">"
   ]
  },
  {
   "cell_type": "markdown",
   "metadata": {},
   "source": []
  },
  {
   "cell_type": "markdown",
   "metadata": {},
   "source": [
    ":+1:"
   ]
  }
 ],
 "metadata": {
  "kernelspec": {
   "display_name": "Python 3",
   "language": "python",
   "name": "python3"
  },
  "language_info": {
   "codemirror_mode": {
    "name": "ipython",
    "version": 3
   },
   "file_extension": ".py",
   "mimetype": "text/x-python",
   "name": "python",
   "nbconvert_exporter": "python",
   "pygments_lexer": "ipython3",
   "version": "3.7.4"
  }
 },
 "nbformat": 4,
 "nbformat_minor": 2
}
